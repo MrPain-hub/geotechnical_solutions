{
 "cells": [
  {
   "cell_type": "code",
   "execution_count": 1,
   "metadata": {},
   "outputs": [
    {
     "name": "stdout",
     "output_type": "stream",
     "text": [
      "Добавление пути к библиотеки geotechnical_solutions\n"
     ]
    }
   ],
   "source": [
    "from os.path import dirname, abspath\n",
    "path_library = dirname(abspath(\"..\"))\n",
    "\n",
    "\n",
    "try:\n",
    "    from geotechnical_solutions.GeoSimModel.create_models.geology_models import *    # Путь к классу для создания геологии\n",
    "\n",
    "except ModuleNotFoundError as ex:\n",
    "    import sys\n",
    "    sys.path.append(path_library)\n",
    "    print(\"Добавление пути к библиотеки geotechnical_solutions\")\n",
    "    \n",
    "    from geotechnical_solutions.GeoSimModel.create_models.geology_models import *\n",
    "    \n",
    "    \n",
    "from geotechnical_solutions.GeoSimModel.create_models.foundation_models import *    # Путь к классу для создания сваи\n",
    "\n",
    "from geotechnical_solutions.GeoSimModel.solve.pile_analysis import *    # Путь к классу для расчета несущей способности свай\n",
    "\n",
    "from geotechnical_solutions.GeoSimModel import path_data    # Получить путь к табличным данным СП (нужно для расчетов)"
   ]
  },
  {
   "cell_type": "markdown",
   "metadata": {},
   "source": [
    "## Определение несущей способности для висячих свай"
   ]
  },
  {
   "cell_type": "markdown",
   "metadata": {},
   "source": [
    "### Пример 1"
   ]
  },
  {
   "cell_type": "code",
   "execution_count": 3,
   "metadata": {},
   "outputs": [
    {
     "name": "stdout",
     "output_type": "stream",
     "text": [
      "несущая способность от пяты сваи 15079.68\n",
      "несущая способность от боковой поверхности 942.48\n",
      "суммарная несущая способность 16022.16\n"
     ]
    }
   ],
   "source": [
    "\"\"\"\n",
    "Входные данные\n",
    "\"\"\"\n",
    "counts_ige = 3\n",
    "dict_ige = {}\n",
    "dict_soil = {}\n",
    "for i in range(counts_ige):\n",
    "    dict_ige[f\"ige{i + 1}\"] = 0\n",
    "    dict_soil[f\"soil{i}\"] = f\"ige{i + 1}\"\n",
    "\n",
    "IL = [.3, .4, .5]\n",
    "gamma = [10e3, 18e3, 18e3]\n",
    "soils_kind = [\"sand\", \"clay\", \"clay\"]\n",
    "z_soils = [50, 40, 30, 0]\n",
    "\n",
    "\"\"\"\n",
    "Создание материалов\n",
    "\"\"\"\n",
    "for i, ige in enumerate(dict_ige):\n",
    "    dict_ige[ige] = CreateMaterial()\n",
    "    dict_ige[ige].data[\"IL\"] = IL[i]\n",
    "    dict_ige[ige].data[\"kind\"] = soils_kind[i]\n",
    "\n",
    "\"\"\"\n",
    "Создание скважины\n",
    "\"\"\"\n",
    "Borehole_1 = CreateBorehole(0, 0)\n",
    "\n",
    "\"\"\"\n",
    "Создание слоев в скважине\n",
    "\"\"\"\n",
    "for i, soil in enumerate(dict_soil):\n",
    "    Borehole_1.createSoil(bot=z_soils[i + 1],\n",
    "                          material=dict_ige[dict_soil[soil]]\n",
    "                          )\n",
    "Borehole_1.change[0][0].change[\"Top\"] = z_soils[0]  # Задать первому слою начальную\n",
    "Borehole_1.change[0][0].change[\"h_soil\"] = z_soils[0] - z_soils[1]\n",
    "\n",
    "\"\"\"\n",
    "Создание сваи\n",
    "\"\"\"\n",
    "Pile = CreatePile(profile=\"circle\",\n",
    "                  D=2,\n",
    "                  length=10,\n",
    "                  z=40,\n",
    "                  driving_method=1,\n",
    "                  driving_option=1\n",
    "                  )\n",
    "\n",
    "\"\"\"\n",
    "Вычисление Fd\n",
    "\"\"\"\n",
    "class_Fd = PileBearingCapacity(Borehole=Borehole_1,\n",
    "                               Pile=Pile,\n",
    "                               path_data=path_data\n",
    "                               )\n",
    "print(\"несущая способность от пяты сваи\", class_Fd.get_Fd_under())\n",
    "print(\"несущая способность от боковой поверхности\", class_Fd.get_Fd_side())\n",
    "print(\"суммарная несущая способность\", class_Fd.get_Fd())"
   ]
  },
  {
   "cell_type": "code",
   "execution_count": null,
   "metadata": {},
   "outputs": [],
   "source": []
  }
 ],
 "metadata": {
  "kernelspec": {
   "display_name": "Python 3",
   "language": "python",
   "name": "python3"
  },
  "language_info": {
   "codemirror_mode": {
    "name": "ipython",
    "version": 3
   },
   "file_extension": ".py",
   "mimetype": "text/x-python",
   "name": "python",
   "nbconvert_exporter": "python",
   "pygments_lexer": "ipython3",
   "version": "3.8.5"
  },
  "toc": {
   "base_numbering": 1,
   "nav_menu": {},
   "number_sections": true,
   "sideBar": true,
   "skip_h1_title": false,
   "title_cell": "Table of Contents",
   "title_sidebar": "Contents",
   "toc_cell": false,
   "toc_position": {},
   "toc_section_display": true,
   "toc_window_display": false
  }
 },
 "nbformat": 4,
 "nbformat_minor": 4
}
